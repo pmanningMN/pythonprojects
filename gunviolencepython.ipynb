{
 "cells": [
  {
   "cell_type": "code",
   "execution_count": 2,
   "metadata": {
    "collapsed": true
   },
   "outputs": [],
   "source": [
    "import csv\n",
    "import datetime\n",
    "f = open(\"guns.csv\", \"r\")\n",
    "#This data came from 538: https://github.com/fivethirtyeight/guns-data\n",
    "guns = list(csv.reader(f))\n",
    "\n"
   ]
  },
  {
   "cell_type": "code",
   "execution_count": 3,
   "metadata": {
    "collapsed": false
   },
   "outputs": [
    {
     "name": "stdout",
     "output_type": "stream",
     "text": [
      "[['', 'year', 'month', 'intent', 'police', 'sex', 'age', 'race', 'hispanic', 'place', 'education'], ['1', '2012', '01', 'Suicide', '0', 'M', '34', 'Asian/Pacific Islander', '100', 'Home', '4'], ['2', '2012', '01', 'Suicide', '0', 'F', '21', 'White', '100', 'Street', '3'], ['3', '2012', '01', 'Suicide', '0', 'M', '60', 'White', '100', 'Other specified', '4']]\n"
     ]
    }
   ],
   "source": [
    "print(guns[0:4])"
   ]
  },
  {
   "cell_type": "code",
   "execution_count": 4,
   "metadata": {
    "collapsed": false
   },
   "outputs": [
    {
     "name": "stdout",
     "output_type": "stream",
     "text": [
      "['', 'year', 'month', 'intent', 'police', 'sex', 'age', 'race', 'hispanic', 'place', 'education']\n",
      "[['1', '2012', '01', 'Suicide', '0', 'M', '34', 'Asian/Pacific Islander', '100', 'Home', '4'], ['2', '2012', '01', 'Suicide', '0', 'F', '21', 'White', '100', 'Street', '3'], ['3', '2012', '01', 'Suicide', '0', 'M', '60', 'White', '100', 'Other specified', '4'], ['4', '2012', '02', 'Suicide', '0', 'M', '64', 'White', '100', 'Home', '4'], ['5', '2012', '02', 'Suicide', '0', 'M', '31', 'White', '100', 'Other specified', '2']]\n"
     ]
    }
   ],
   "source": [
    "headers = guns[0]\n",
    "#This section prepares my data by removing the header\n",
    "print(headers)\n",
    "gunlength = len(guns)\n",
    "guns = guns[1:gunlength]\n",
    "print(guns[:5])"
   ]
  },
  {
   "cell_type": "code",
   "execution_count": 18,
   "metadata": {
    "collapsed": false
   },
   "outputs": [
    {
     "name": "stdout",
     "output_type": "stream",
     "text": [
      "{'2013': 33636, '2014': 33599, '2012': 33563}\n",
      "[datetime.datetime(2012, 1, 1, 0, 0), datetime.datetime(2012, 1, 1, 0, 0), datetime.datetime(2012, 1, 1, 0, 0), datetime.datetime(2012, 2, 1, 0, 0), datetime.datetime(2012, 2, 1, 0, 0)]\n"
     ]
    }
   ],
   "source": [
    "def count(rownum, data_name):\n",
    "    #takes a row number from a dataset, dataset name and returns a dictionary of all the values at that row number\n",
    "    dict1 = {}\n",
    "    varlist = [row[rownum] for row in guns]\n",
    "    for i in varlist:\n",
    "        if i in dict1:\n",
    "            dict1[i] =  dict1[i] + 1\n",
    "        if i not in dict1:\n",
    "            dict1[i] = 1\n",
    "    return (dict1)\n",
    "\n",
    "year_counts = count(1, guns)\n",
    "print(year_counts)\n",
    "\n",
    "dates = [datetime.datetime(year=int(row[1]), month = int(row[2]), day = 1) for row in guns]\n",
    "print(dates[:5])\n",
    "date_counts = {}\n",
    "for date in dates:\n",
    "#This function builds a dictionary of the dates in the gun dataset.\n",
    "    if date in date_counts:\n",
    "        date_counts[date] = date_counts[date] +1\n",
    "    if date not in date_counts:\n",
    "        date_counts[date] = 1\n"
   ]
  },
  {
   "cell_type": "code",
   "execution_count": 6,
   "metadata": {
    "collapsed": false
   },
   "outputs": [
    {
     "name": "stdout",
     "output_type": "stream",
     "text": [
      "{'F': 14449, 'M': 86349}\n",
      "{'Black': 23296, 'Hispanic': 9022, 'Native American/Native Alaskan': 917, 'Asian/Pacific Islander': 1326, 'White': 66237}\n"
     ]
    }
   ],
   "source": [
    "sex_counts = count(5, guns)\n",
    "print(sex_counts)\n",
    "race_counts = count(7, guns)\n",
    "print(race_counts)"
   ]
  },
  {
   "cell_type": "markdown",
   "metadata": {},
   "source": [
    "Most data shows that victims tend to be Male and White on an absolute level. I will now make the proportional to the size of the racial group and per 100,000 people."
   ]
  },
  {
   "cell_type": "code",
   "execution_count": 7,
   "metadata": {
    "collapsed": false
   },
   "outputs": [
    {
     "name": "stdout",
     "output_type": "stream",
     "text": [
      "[['Id', 'Year', 'Id', 'Sex', 'Id', 'Hispanic Origin', 'Id', 'Id2', 'Geography', 'Total', 'Race Alone - White', 'Race Alone - Hispanic', 'Race Alone - Black or African American', 'Race Alone - American Indian and Alaska Native', 'Race Alone - Asian', 'Race Alone - Native Hawaiian and Other Pacific Islander', 'Two or More Races'], ['cen42010', 'April 1, 2010 Census', 'totsex', 'Both Sexes', 'tothisp', 'Total', '0100000US', '', 'United States', '308745538', '197318956', '44618105', '40250635', '3739506', '15159516', '674625', '6984195']]\n"
     ]
    }
   ],
   "source": [
    "f = open(\"census.csv\", \"r\")\n",
    "#census data is brought in to best adjust my values to population size\n",
    "census = list(csv.reader(f))\n",
    "print(census)\n"
   ]
  },
  {
   "cell_type": "code",
   "execution_count": 8,
   "metadata": {
    "collapsed": false
   },
   "outputs": [
    {
     "name": "stdout",
     "output_type": "stream",
     "text": [
      "{'Hispanic': 20.220491210910907, 'Native American/Native Alaskan': 24.521955573811088, 'Black': 57.8773477735196, 'White': 33.56849303419181, 'Asian/Pacific Islander': 8.374309664161762}\n"
     ]
    }
   ],
   "source": [
    "mapping = {'Black':40250635, 'White':197318956, 'Hispanic':44618105, 'Native American/Native Alaskan': 3739506, 'Asian/Pacific Islander':15834141}\n",
    "\n",
    "race_per_hundredk = {}\n",
    "for key in race_counts:\n",
    "    race_per_hundredk[key] = ((race_counts[key]/mapping[key])*100000)\n",
    "    \n",
    "print(race_per_hundredk)"
   ]
  },
  {
   "cell_type": "code",
   "execution_count": 9,
   "metadata": {
    "collapsed": false
   },
   "outputs": [
    {
     "name": "stdout",
     "output_type": "stream",
     "text": [
      "{'Black': 48.47376942003524, 'Hispanic': 12.62940234687242, 'Native American/Native Alaskan': 8.744470526320857, 'Asian/Pacific Islander': 3.5366616982885275, 'White': 4.636148591826119}\n"
     ]
    }
   ],
   "source": [
    "intents = [row[3] for row in guns]\n",
    "races = [row[7] for row in guns]\n",
    "homicide_race_counts = {}\n",
    "for i, race in enumerate(races):\n",
    "#provides the overall number of homicdes per race\n",
    "    if intents[i] == 'Homicide' and race not in homicide_race_counts:\n",
    "        homicide_race_counts[race] = 1\n",
    "    if intents[i] == 'Homicide' and race in homicide_race_counts:\n",
    "        homicide_race_counts[race] = homicide_race_counts[race] + 1\n",
    "\n",
    "for key in homicide_race_counts:\n",
    "#adjusts the absolute value of homicdes/race to population size and rate per 100000\n",
    "    homicide_race_counts[key] = ((homicide_race_counts[key]/mapping[key])*100000)\n",
    "    \n",
    "print(homicide_race_counts)"
   ]
  },
  {
   "cell_type": "markdown",
   "metadata": {},
   "source": [
    "When we limit the data analysis to deaths with homicide as the intent, the numbers per race group change significantly. Where whites previously were the second most likely group to die in the guns data, now they are the second least likely in the \"homicide as intent data\". This means that many of the deaths in the white racial category likely have suicide as the main intent, and not homicide, as suicide is the next major intent category."
   ]
  },
  {
   "cell_type": "markdown",
   "metadata": {},
   "source": [
    "Now I hope to awnser the question: Do accidental gun deaths correlate to education?\n",
    "    \n",
    "    "
   ]
  },
  {
   "cell_type": "code",
   "execution_count": 10,
   "metadata": {
    "collapsed": false
   },
   "outputs": [
    {
     "name": "stdout",
     "output_type": "stream",
     "text": [
      "{'5': 29, 'NA': 14, '2': 634, '4': 147, '3': 328, '1': 493}\n"
     ]
    }
   ],
   "source": [
    "educationlist = [row[10] for row in guns]\n",
    "homicide_education_counts = {}\n",
    "\n",
    "for i, education in enumerate(educationlist):\n",
    "#provides the overall number of accidental deaths per education level 1-5. 2 being H.S. grad, 4 being college grad. 5= N/A\n",
    "    if intents[i] == 'Accidental' and education not in  homicide_education_counts:\n",
    "        homicide_education_counts[education] = 1\n",
    "    if intents[i] == 'Accidental' and education in homicide_education_counts:\n",
    "        homicide_education_counts[education] =  homicide_education_counts[education] + 1\n",
    "\n",
    "print(homicide_education_counts)"
   ]
  },
  {
   "cell_type": "markdown",
   "metadata": {
    "collapsed": true
   },
   "source": [
    "The above data isnt that useful alone, because like race these aren't adjusted to group size, so to alter this condition I used: https://www.census.gov/content/dam/Census/library/publications/2016/demo/p20-578.pdf\n",
    "\n",
    "There I found that the education rate information (in % form) to build the edu_dict dictionary below. The keys are based on the gun data key of:\n",
    "\n",
    "education -- educational status of the victim. Can be one of the following:\n",
    "1 -- Less than High School\n",
    "2 -- Graduated from High School or equivalent\n",
    "3 -- Some College \n",
    "4 -- At least graduated from College (To compare to the census data I interpret this as graduated from bach or associate degree)\n",
    "5 -- Not available"
   ]
  },
  {
   "cell_type": "code",
   "execution_count": 13,
   "metadata": {
    "collapsed": false
   },
   "outputs": [
    {
     "name": "stdout",
     "output_type": "stream",
     "text": [
      "{'2': 21.491525423728813, '3': 18.636363636363633, '1': 42.5, '4': 3.4751773049645394}\n"
     ]
    }
   ],
   "source": [
    "edu_dict = {'1':11.6, '2':29.5, '3':17.6, '4': 42.3}\n",
    "\n",
    "adjusted_accident_rate = {}\n",
    "\n",
    "for key in edu_dict:\n",
    "    adjusted_accident_rate[key] = (homicide_education_counts[key]/edu_dict[key])\n",
    "    \n",
    "print(adjusted_accident_rate)\n",
    "\n"
   ]
  },
  {
   "cell_type": "markdown",
   "metadata": {},
   "source": [
    "It appears that adjusting for population size makes the number of homicides higher for victims with a lower education. This can be due to many reasons, but if class could be controlled for this would likely show a similar pattern as educational attainment is correlated with class. Those in low class neighborhoods with higher gun violence rates will be more likely to be victims of crime. This would recquire further study. "
   ]
  },
  {
   "cell_type": "code",
   "execution_count": null,
   "metadata": {
    "collapsed": true
   },
   "outputs": [],
   "source": []
  }
 ],
 "metadata": {
  "kernelspec": {
   "display_name": "Python 3",
   "language": "python",
   "name": "python3"
  },
  "language_info": {
   "codemirror_mode": {
    "name": "ipython",
    "version": 3
   },
   "file_extension": ".py",
   "mimetype": "text/x-python",
   "name": "python",
   "nbconvert_exporter": "python",
   "pygments_lexer": "ipython3",
   "version": "3.4.3"
  }
 },
 "nbformat": 4,
 "nbformat_minor": 0
}
